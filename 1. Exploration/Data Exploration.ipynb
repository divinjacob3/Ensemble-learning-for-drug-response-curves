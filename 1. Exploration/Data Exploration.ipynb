{
 "cells": [
  {
   "cell_type": "markdown",
   "metadata": {},
   "source": [
    "<h1>Data Exploration</h1>"
   ]
  },
  {
   "cell_type": "markdown",
   "metadata": {},
   "source": [
    "### Summary of Findings:\n",
    "\n",
    "- 928 out of the total 1001 samples have full profiles available\n",
    "- There are many features for cell lines, it is a sparse matrix\n",
    "- Cosmic identifier is the cell line the drug was tested on "
   ]
  },
  {
   "cell_type": "code",
   "execution_count": 1,
   "metadata": {},
   "outputs": [],
   "source": [
    "import pandas as pd\n",
    "import numpy as np\n",
    "from scipy import stats\n",
    "from scipy.stats import norm\n",
    "import seaborn as sns\n",
    "import matplotlib.pyplot as plt\n",
    "%matplotlib inline\n",
    "from sklearn.metrics import r2_score\n",
    "_FOLDER = \"../data/\"\n",
    "\n",
    "import os\n",
    "import gc\n",
    "import warnings\n",
    "warnings.filterwarnings(\"ignore\")\n",
    "from scipy.optimize import curve_fit\n",
    "from scipy.optimize import leastsq\n",
    "import scipy.optimize as opt\n",
    "from tqdm import tqdm"
   ]
  },
  {
   "cell_type": "code",
   "execution_count": 2,
   "metadata": {},
   "outputs": [
    {
     "name": "stdout",
     "output_type": "stream",
     "text": [
      "(1001, 13)\n"
     ]
    },
    {
     "data": {
      "text/html": [
       "<div>\n",
       "<style scoped>\n",
       "    .dataframe tbody tr th:only-of-type {\n",
       "        vertical-align: middle;\n",
       "    }\n",
       "\n",
       "    .dataframe tbody tr th {\n",
       "        vertical-align: top;\n",
       "    }\n",
       "\n",
       "    .dataframe thead th {\n",
       "        text-align: right;\n",
       "    }\n",
       "</style>\n",
       "<table border=\"1\" class=\"dataframe\">\n",
       "  <thead>\n",
       "    <tr style=\"text-align: right;\">\n",
       "      <th></th>\n",
       "      <th>Sample Name</th>\n",
       "      <th>COSMIC identifier</th>\n",
       "      <th>Whole Exome Sequencing (WES)</th>\n",
       "      <th>Copy Number Alterations (CNA)</th>\n",
       "      <th>Gene Expression</th>\n",
       "      <th>Methylation</th>\n",
       "      <th>Drug\\rResponse</th>\n",
       "      <th>GDSC\\rTissue descriptor 1</th>\n",
       "      <th>GDSC\\rTissue\\rdescriptor 2</th>\n",
       "      <th>Cancer Type\\r(matching TCGA label)</th>\n",
       "      <th>Microsatellite \\rinstability Status (MSI)</th>\n",
       "      <th>Screen Medium</th>\n",
       "      <th>Growth Properties</th>\n",
       "    </tr>\n",
       "  </thead>\n",
       "  <tbody>\n",
       "    <tr>\n",
       "      <th>0</th>\n",
       "      <td>A253</td>\n",
       "      <td>906794</td>\n",
       "      <td>Y</td>\n",
       "      <td>Y</td>\n",
       "      <td>Y</td>\n",
       "      <td>Y</td>\n",
       "      <td>Y</td>\n",
       "      <td>aero_dig_tract</td>\n",
       "      <td>head and neck</td>\n",
       "      <td>NaN</td>\n",
       "      <td>MSS/MSI-L</td>\n",
       "      <td>D/F12</td>\n",
       "      <td>Adherent</td>\n",
       "    </tr>\n",
       "    <tr>\n",
       "      <th>1</th>\n",
       "      <td>BB30-HNC</td>\n",
       "      <td>753531</td>\n",
       "      <td>Y</td>\n",
       "      <td>Y</td>\n",
       "      <td>Y</td>\n",
       "      <td>Y</td>\n",
       "      <td>Y</td>\n",
       "      <td>aero_dig_tract</td>\n",
       "      <td>head and neck</td>\n",
       "      <td>HNSC</td>\n",
       "      <td>MSS/MSI-L</td>\n",
       "      <td>D/F12</td>\n",
       "      <td>Adherent</td>\n",
       "    </tr>\n",
       "    <tr>\n",
       "      <th>2</th>\n",
       "      <td>BB49-HNC</td>\n",
       "      <td>753532</td>\n",
       "      <td>Y</td>\n",
       "      <td>Y</td>\n",
       "      <td>Y</td>\n",
       "      <td>Y</td>\n",
       "      <td>Y</td>\n",
       "      <td>aero_dig_tract</td>\n",
       "      <td>head and neck</td>\n",
       "      <td>HNSC</td>\n",
       "      <td>MSS/MSI-L</td>\n",
       "      <td>D/F12</td>\n",
       "      <td>Adherent</td>\n",
       "    </tr>\n",
       "    <tr>\n",
       "      <th>3</th>\n",
       "      <td>BHY</td>\n",
       "      <td>753535</td>\n",
       "      <td>Y</td>\n",
       "      <td>Y</td>\n",
       "      <td>Y</td>\n",
       "      <td>Y</td>\n",
       "      <td>Y</td>\n",
       "      <td>aero_dig_tract</td>\n",
       "      <td>head and neck</td>\n",
       "      <td>HNSC</td>\n",
       "      <td>MSS/MSI-L</td>\n",
       "      <td>D/F12</td>\n",
       "      <td>Adherent</td>\n",
       "    </tr>\n",
       "    <tr>\n",
       "      <th>4</th>\n",
       "      <td>BICR10</td>\n",
       "      <td>1290724</td>\n",
       "      <td>Y</td>\n",
       "      <td>Y</td>\n",
       "      <td>Y</td>\n",
       "      <td>Y</td>\n",
       "      <td>Y</td>\n",
       "      <td>aero_dig_tract</td>\n",
       "      <td>head and neck</td>\n",
       "      <td>HNSC</td>\n",
       "      <td>MSS/MSI-L</td>\n",
       "      <td>D/F12</td>\n",
       "      <td>Adherent</td>\n",
       "    </tr>\n",
       "  </tbody>\n",
       "</table>\n",
       "</div>"
      ],
      "text/plain": [
       "  Sample Name  COSMIC identifier Whole Exome Sequencing (WES)  \\\n",
       "0        A253             906794                            Y   \n",
       "1    BB30-HNC             753531                            Y   \n",
       "2    BB49-HNC             753532                            Y   \n",
       "3         BHY             753535                            Y   \n",
       "4      BICR10            1290724                            Y   \n",
       "\n",
       "  Copy Number Alterations (CNA) Gene Expression Methylation Drug\\rResponse  \\\n",
       "0                             Y               Y           Y              Y   \n",
       "1                             Y               Y           Y              Y   \n",
       "2                             Y               Y           Y              Y   \n",
       "3                             Y               Y           Y              Y   \n",
       "4                             Y               Y           Y              Y   \n",
       "\n",
       "  GDSC\\rTissue descriptor 1 GDSC\\rTissue\\rdescriptor 2  \\\n",
       "0            aero_dig_tract              head and neck   \n",
       "1            aero_dig_tract              head and neck   \n",
       "2            aero_dig_tract              head and neck   \n",
       "3            aero_dig_tract              head and neck   \n",
       "4            aero_dig_tract              head and neck   \n",
       "\n",
       "  Cancer Type\\r(matching TCGA label)  \\\n",
       "0                                NaN   \n",
       "1                               HNSC   \n",
       "2                               HNSC   \n",
       "3                               HNSC   \n",
       "4                               HNSC   \n",
       "\n",
       "  Microsatellite \\rinstability Status (MSI) Screen Medium Growth Properties  \n",
       "0                                 MSS/MSI-L         D/F12          Adherent  \n",
       "1                                 MSS/MSI-L         D/F12          Adherent  \n",
       "2                                 MSS/MSI-L         D/F12          Adherent  \n",
       "3                                 MSS/MSI-L         D/F12          Adherent  \n",
       "4                                 MSS/MSI-L         D/F12          Adherent  "
      ]
     },
     "execution_count": 2,
     "metadata": {},
     "output_type": "execute_result"
    }
   ],
   "source": [
    "cell_lines = pd.read_csv(_FOLDER+'Cell_Lines_Details.csv')\n",
    "print(cell_lines.shape)\n",
    "cell_lines.head()"
   ]
  },
  {
   "cell_type": "code",
   "execution_count": 3,
   "metadata": {},
   "outputs": [
    {
     "data": {
      "text/html": [
       "<div>\n",
       "<style scoped>\n",
       "    .dataframe tbody tr th:only-of-type {\n",
       "        vertical-align: middle;\n",
       "    }\n",
       "\n",
       "    .dataframe tbody tr th {\n",
       "        vertical-align: top;\n",
       "    }\n",
       "\n",
       "    .dataframe thead th {\n",
       "        text-align: right;\n",
       "    }\n",
       "</style>\n",
       "<table border=\"1\" class=\"dataframe\">\n",
       "  <thead>\n",
       "    <tr style=\"text-align: right;\">\n",
       "      <th></th>\n",
       "      <th>Sample Name</th>\n",
       "      <th>COSMIC identifier</th>\n",
       "      <th>Whole Exome Sequencing (WES)</th>\n",
       "      <th>Copy Number Alterations (CNA)</th>\n",
       "      <th>Gene Expression</th>\n",
       "      <th>Methylation</th>\n",
       "      <th>Drug/Response</th>\n",
       "      <th>GDSC/Tissue descriptor 1</th>\n",
       "      <th>GDSC/Tissue descriptor 2</th>\n",
       "      <th>Cancer Type/(matching TCGA label)</th>\n",
       "      <th>Microsatellite/instability Status (MSI)</th>\n",
       "      <th>Screen Medium</th>\n",
       "      <th>Growth Properties</th>\n",
       "    </tr>\n",
       "  </thead>\n",
       "  <tbody>\n",
       "  </tbody>\n",
       "</table>\n",
       "</div>"
      ],
      "text/plain": [
       "Empty DataFrame\n",
       "Columns: [Sample Name, COSMIC identifier, Whole Exome Sequencing (WES), Copy Number Alterations (CNA), Gene Expression, Methylation, Drug/Response, GDSC/Tissue descriptor 1, GDSC/Tissue descriptor 2, Cancer Type/(matching TCGA label), Microsatellite/instability Status (MSI), Screen Medium, Growth Properties]\n",
       "Index: []"
      ]
     },
     "execution_count": 3,
     "metadata": {},
     "output_type": "execute_result"
    }
   ],
   "source": [
    "to_rename_columns = {\"Drug\\rResponse\": 'Drug/Response', \n",
    "                 'GDSC\\rTissue descriptor 1': \"GDSC/Tissue descriptor 1\",\n",
    "                  'GDSC\\rTissue\\rdescriptor 2':'GDSC/Tissue descriptor 2', \n",
    "                  'Cancer Type\\r(matching TCGA label)':'Cancer Type/(matching TCGA label)',\n",
    "                  'Microsatellite \\rinstability Status (MSI)':'Microsatellite/instability Status (MSI)',\n",
    "                 }\n",
    "cell_lines.rename(columns = to_rename_columns, inplace=True)\n",
    "# cell_lines.head()\n",
    "cell_lines[cell_lines['GDSC/Tissue descriptor 1'] == 'ABCB1']"
   ]
  },
  {
   "cell_type": "code",
   "execution_count": 4,
   "metadata": {},
   "outputs": [
    {
     "name": "stdout",
     "output_type": "stream",
     "text": [
      "Number of samples in the data set: 1001 \n",
      "\n",
      "Sample Name - unique values: 1001 \n",
      "COSMIC identifier - unique values: 1001 \n",
      "GDSC/Tissue descriptor 1 - unique values: 19 \n",
      "Cancer Type/(matching TCGA label) - unique values: 31 \n",
      "Microsatellite/instability Status (MSI) - unique values: 2 \n",
      "Screen Medium - unique values: 2 \n",
      "Growth Properties - unique values: 3 \n"
     ]
    }
   ],
   "source": [
    "columns_to_study =[\"Sample Name\", \"COSMIC identifier\", \"GDSC/Tissue descriptor 1\", \n",
    "                   \"Cancer Type/(matching TCGA label)\", \"Microsatellite/instability Status (MSI)\",\n",
    "                  \"Screen Medium\", \"Growth Properties\"]\n",
    "\n",
    "print(\"Number of samples in the data set:\", cell_lines.shape[0], \"\\n\")\n",
    "for col in columns_to_study:\n",
    "    print(\"%s - unique values: %d \" % (col, cell_lines[col].nunique()))"
   ]
  },
  {
   "cell_type": "code",
   "execution_count": 5,
   "metadata": {},
   "outputs": [
    {
     "name": "stdout",
     "output_type": "stream",
     "text": [
      "Adherent         725\n",
      "Suspension       244\n",
      "Semi-Adherent     30\n",
      "Name: Growth Properties, dtype: int64\n",
      "\n",
      "\n",
      "\n",
      "Y    990\n",
      "N     11\n",
      "Name: Drug/Response, dtype: int64\n"
     ]
    }
   ],
   "source": [
    "print(cell_lines[\"Growth Properties\"].value_counts())\n",
    "print(\"\\n\\n\")\n",
    "print(cell_lines[\"Drug/Response\"].value_counts())"
   ]
  },
  {
   "cell_type": "code",
   "execution_count": 6,
   "metadata": {},
   "outputs": [
    {
     "name": "stdout",
     "output_type": "stream",
     "text": [
      "Cancer Type/(matching TCGA label) : 170\n",
      "Microsatellite/instability Status (MSI) : 15\n",
      "Y    990\n",
      "Name: Whole Exome Sequencing (WES), dtype: int64 \n",
      "\n",
      "Y    985\n",
      "N      5\n",
      "Name: Copy Number Alterations (CNA), dtype: int64 \n",
      "\n",
      "Y    962\n",
      "N     28\n",
      "Name: Gene Expression, dtype: int64 \n",
      "\n",
      "Y    949\n",
      "N     41\n",
      "Name: Methylation, dtype: int64 \n",
      "\n"
     ]
    }
   ],
   "source": [
    "cells_with_response = cell_lines[cell_lines[\"Drug/Response\"]==\"Y\"]\n",
    "#columns with NaN values\n",
    "for col in cells_with_response.columns:\n",
    "    number_null_values=cells_with_response[col].isnull().sum()\n",
    "    if number_null_values>0:\n",
    "        print(col, \":\", number_null_values)\n",
    "\n",
    "potential_features = [\"Whole Exome Sequencing (WES)\",\n",
    "                      \"Copy Number Alterations (CNA)\",\n",
    "                      \"Gene Expression\", \n",
    "                      \"Methylation\"]\n",
    "for col in potential_features:\n",
    "#     print(col, cells_with_response[col].nunique())\n",
    "    print(cells_with_response[col].value_counts(), \"\\n\")"
   ]
  },
  {
   "cell_type": "code",
   "execution_count": 7,
   "metadata": {},
   "outputs": [
    {
     "data": {
      "text/plain": [
       "(928, 13)"
      ]
     },
     "execution_count": 7,
     "metadata": {},
     "output_type": "execute_result"
    }
   ],
   "source": [
    "full_profiles= cells_with_response[(cells_with_response[\"Whole Exome Sequencing (WES)\"]==\"Y\")\n",
    "                    &(cells_with_response[\"Copy Number Alterations (CNA)\"]==\"Y\")\n",
    "                    &(cells_with_response[\"Gene Expression\"]==\"Y\")\n",
    "                    &(cells_with_response[\"Methylation\"]==\"Y\")]\n",
    "full_profiles.shape\n"
   ]
  },
  {
   "cell_type": "markdown",
   "metadata": {},
   "source": [
    "### Cell Line Features"
   ]
  },
  {
   "cell_type": "code",
   "execution_count": 8,
   "metadata": {},
   "outputs": [
    {
     "data": {
      "text/plain": [
       "(1073, 1002)"
      ]
     },
     "execution_count": 8,
     "metadata": {},
     "output_type": "execute_result"
    }
   ],
   "source": [
    "cell_features = pd.read_csv(_FOLDER+\"Cell_Line_Features_PANCAN_simple_MOBEM.tsv\", sep='\\t')\n",
    "cell_features.shape"
   ]
  },
  {
   "cell_type": "code",
   "execution_count": 9,
   "metadata": {},
   "outputs": [
    {
     "data": {
      "text/html": [
       "<div>\n",
       "<style scoped>\n",
       "    .dataframe tbody tr th:only-of-type {\n",
       "        vertical-align: middle;\n",
       "    }\n",
       "\n",
       "    .dataframe tbody tr th {\n",
       "        vertical-align: top;\n",
       "    }\n",
       "\n",
       "    .dataframe thead th {\n",
       "        text-align: right;\n",
       "    }\n",
       "</style>\n",
       "<table border=\"1\" class=\"dataframe\">\n",
       "  <thead>\n",
       "    <tr style=\"text-align: right;\">\n",
       "      <th></th>\n",
       "      <th>Unnamed: 0</th>\n",
       "      <th>1287381</th>\n",
       "      <th>924100</th>\n",
       "      <th>910924</th>\n",
       "      <th>687561</th>\n",
       "      <th>1287706</th>\n",
       "      <th>687452</th>\n",
       "      <th>906798</th>\n",
       "      <th>906797</th>\n",
       "      <th>906800</th>\n",
       "      <th>...</th>\n",
       "      <th>910545</th>\n",
       "      <th>1524416</th>\n",
       "      <th>971774</th>\n",
       "      <th>930083</th>\n",
       "      <th>909700</th>\n",
       "      <th>909701</th>\n",
       "      <th>753620</th>\n",
       "      <th>905965</th>\n",
       "      <th>1299061</th>\n",
       "      <th>1331040</th>\n",
       "    </tr>\n",
       "  </thead>\n",
       "  <tbody>\n",
       "    <tr>\n",
       "      <th>0</th>\n",
       "      <td>ABCB1_mut</td>\n",
       "      <td>0</td>\n",
       "      <td>0</td>\n",
       "      <td>0</td>\n",
       "      <td>0</td>\n",
       "      <td>0</td>\n",
       "      <td>0</td>\n",
       "      <td>0</td>\n",
       "      <td>0</td>\n",
       "      <td>0</td>\n",
       "      <td>...</td>\n",
       "      <td>0</td>\n",
       "      <td>0</td>\n",
       "      <td>0</td>\n",
       "      <td>0</td>\n",
       "      <td>0</td>\n",
       "      <td>0</td>\n",
       "      <td>0</td>\n",
       "      <td>0</td>\n",
       "      <td>0</td>\n",
       "      <td>0</td>\n",
       "    </tr>\n",
       "    <tr>\n",
       "      <th>1</th>\n",
       "      <td>ABL2_mut</td>\n",
       "      <td>0</td>\n",
       "      <td>0</td>\n",
       "      <td>0</td>\n",
       "      <td>0</td>\n",
       "      <td>0</td>\n",
       "      <td>0</td>\n",
       "      <td>0</td>\n",
       "      <td>0</td>\n",
       "      <td>0</td>\n",
       "      <td>...</td>\n",
       "      <td>0</td>\n",
       "      <td>0</td>\n",
       "      <td>0</td>\n",
       "      <td>0</td>\n",
       "      <td>0</td>\n",
       "      <td>0</td>\n",
       "      <td>0</td>\n",
       "      <td>0</td>\n",
       "      <td>0</td>\n",
       "      <td>0</td>\n",
       "    </tr>\n",
       "    <tr>\n",
       "      <th>2</th>\n",
       "      <td>ACACA_mut</td>\n",
       "      <td>0</td>\n",
       "      <td>0</td>\n",
       "      <td>0</td>\n",
       "      <td>0</td>\n",
       "      <td>0</td>\n",
       "      <td>0</td>\n",
       "      <td>0</td>\n",
       "      <td>0</td>\n",
       "      <td>0</td>\n",
       "      <td>...</td>\n",
       "      <td>0</td>\n",
       "      <td>0</td>\n",
       "      <td>0</td>\n",
       "      <td>0</td>\n",
       "      <td>0</td>\n",
       "      <td>0</td>\n",
       "      <td>0</td>\n",
       "      <td>0</td>\n",
       "      <td>0</td>\n",
       "      <td>0</td>\n",
       "    </tr>\n",
       "    <tr>\n",
       "      <th>3</th>\n",
       "      <td>ACVR1B_mut</td>\n",
       "      <td>0</td>\n",
       "      <td>0</td>\n",
       "      <td>0</td>\n",
       "      <td>0</td>\n",
       "      <td>0</td>\n",
       "      <td>0</td>\n",
       "      <td>0</td>\n",
       "      <td>0</td>\n",
       "      <td>0</td>\n",
       "      <td>...</td>\n",
       "      <td>0</td>\n",
       "      <td>0</td>\n",
       "      <td>0</td>\n",
       "      <td>0</td>\n",
       "      <td>0</td>\n",
       "      <td>0</td>\n",
       "      <td>0</td>\n",
       "      <td>0</td>\n",
       "      <td>0</td>\n",
       "      <td>0</td>\n",
       "    </tr>\n",
       "    <tr>\n",
       "      <th>4</th>\n",
       "      <td>ACVR2A_mut</td>\n",
       "      <td>0</td>\n",
       "      <td>0</td>\n",
       "      <td>0</td>\n",
       "      <td>0</td>\n",
       "      <td>0</td>\n",
       "      <td>0</td>\n",
       "      <td>0</td>\n",
       "      <td>0</td>\n",
       "      <td>0</td>\n",
       "      <td>...</td>\n",
       "      <td>0</td>\n",
       "      <td>0</td>\n",
       "      <td>0</td>\n",
       "      <td>0</td>\n",
       "      <td>0</td>\n",
       "      <td>0</td>\n",
       "      <td>0</td>\n",
       "      <td>0</td>\n",
       "      <td>0</td>\n",
       "      <td>0</td>\n",
       "    </tr>\n",
       "  </tbody>\n",
       "</table>\n",
       "<p>5 rows × 1002 columns</p>\n",
       "</div>"
      ],
      "text/plain": [
       "   Unnamed: 0  1287381  924100  910924  687561  1287706  687452  906798  \\\n",
       "0   ABCB1_mut        0       0       0       0        0       0       0   \n",
       "1    ABL2_mut        0       0       0       0        0       0       0   \n",
       "2   ACACA_mut        0       0       0       0        0       0       0   \n",
       "3  ACVR1B_mut        0       0       0       0        0       0       0   \n",
       "4  ACVR2A_mut        0       0       0       0        0       0       0   \n",
       "\n",
       "   906797  906800  ...  910545  1524416  971774  930083  909700  909701  \\\n",
       "0       0       0  ...       0        0       0       0       0       0   \n",
       "1       0       0  ...       0        0       0       0       0       0   \n",
       "2       0       0  ...       0        0       0       0       0       0   \n",
       "3       0       0  ...       0        0       0       0       0       0   \n",
       "4       0       0  ...       0        0       0       0       0       0   \n",
       "\n",
       "   753620  905965  1299061  1331040  \n",
       "0       0       0        0        0  \n",
       "1       0       0        0        0  \n",
       "2       0       0        0        0  \n",
       "3       0       0        0        0  \n",
       "4       0       0        0        0  \n",
       "\n",
       "[5 rows x 1002 columns]"
      ]
     },
     "execution_count": 9,
     "metadata": {},
     "output_type": "execute_result"
    }
   ],
   "source": [
    "cell_features.head()"
   ]
  },
  {
   "cell_type": "code",
   "execution_count": 10,
   "metadata": {},
   "outputs": [],
   "source": [
    "with open(\"../results/X_features_cancer_cell_lines_easy_read.txt\", 'w') as f:\n",
    "    for s in cell_features[\"Unnamed: 0\"].values:\n",
    "        f.write(str(s) + '\\n')"
   ]
  },
  {
   "cell_type": "code",
   "execution_count": 11,
   "metadata": {},
   "outputs": [
    {
     "name": "stdout",
     "output_type": "stream",
     "text": [
      "<class 'pandas.core.frame.DataFrame'>\n",
      "RangeIndex: 1073 entries, 0 to 1072\n",
      "Columns: 1002 entries, Unnamed: 0 to 1331040\n",
      "dtypes: int64(1001), object(1)\n",
      "memory usage: 8.2+ MB\n"
     ]
    }
   ],
   "source": [
    "cell_features.info()"
   ]
  },
  {
   "cell_type": "code",
   "execution_count": 12,
   "metadata": {},
   "outputs": [
    {
     "name": "stdout",
     "output_type": "stream",
     "text": [
      "[18  8 13 ...  9 13  9]\n"
     ]
    },
    {
     "data": {
      "text/plain": [
       "(array([944.,  84.,  12.,   7.,   9.,   7.,   7.,   1.,   1.,   1.]),\n",
       " array([  2. ,  67.4, 132.8, 198.2, 263.6, 329. , 394.4, 459.8, 525.2,\n",
       "        590.6, 656. ]),\n",
       " <BarContainer object of 10 artists>)"
      ]
     },
     "execution_count": 12,
     "metadata": {},
     "output_type": "execute_result"
    },
    {
     "data": {
      "image/png": "[encoded data removed]",
      "text/plain": [
       "<Figure size 432x288 with 1 Axes>"
      ]
     },
     "metadata": {
      "needs_background": "light"
     },
     "output_type": "display_data"
    }
   ],
   "source": [
    "nonZeroCellLines = np.sum(cell_features.values != 0, axis=1)\n",
    "print(nonZeroCellLines)\n",
    "plt.hist(nonZeroCellLines)"
   ]
  },
  {
   "cell_type": "code",
   "execution_count": 13,
   "metadata": {},
   "outputs": [
    {
     "data": {
      "text/plain": [
       "1           655\n",
       "0           346\n",
       "TP53_mut      1\n",
       "Name: 288, dtype: int64"
      ]
     },
     "execution_count": 13,
     "metadata": {},
     "output_type": "execute_result"
    }
   ],
   "source": [
    "cell_features.iloc[nonZeroCellLines.argmax(), :].value_counts()"
   ]
  },
  {
   "cell_type": "markdown",
   "metadata": {},
   "source": [
    "### Drug Features"
   ]
  },
  {
   "cell_type": "code",
   "execution_count": 14,
   "metadata": {},
   "outputs": [
    {
     "data": {
      "text/plain": [
       "(265, 5)"
      ]
     },
     "execution_count": 14,
     "metadata": {},
     "output_type": "execute_result"
    }
   ],
   "source": [
    "drug_features = pd.read_csv(_FOLDER+'Drug_Features.csv')\n",
    "drug_features.shape"
   ]
  },
  {
   "cell_type": "code",
   "execution_count": 15,
   "metadata": {},
   "outputs": [
    {
     "data": {
      "text/html": [
       "<div>\n",
       "<style scoped>\n",
       "    .dataframe tbody tr th:only-of-type {\n",
       "        vertical-align: middle;\n",
       "    }\n",
       "\n",
       "    .dataframe tbody tr th {\n",
       "        vertical-align: top;\n",
       "    }\n",
       "\n",
       "    .dataframe thead th {\n",
       "        text-align: right;\n",
       "    }\n",
       "</style>\n",
       "<table border=\"1\" class=\"dataframe\">\n",
       "  <thead>\n",
       "    <tr style=\"text-align: right;\">\n",
       "      <th></th>\n",
       "      <th>Drug ID</th>\n",
       "      <th>Drug Name</th>\n",
       "      <th>Synonyms</th>\n",
       "      <th>Target</th>\n",
       "      <th>Target Pathway</th>\n",
       "    </tr>\n",
       "  </thead>\n",
       "  <tbody>\n",
       "    <tr>\n",
       "      <th>0</th>\n",
       "      <td>1</td>\n",
       "      <td>Erlotinib</td>\n",
       "      <td>Tarceva, RG-1415, CP-358774, OSI-774, Ro-50823...</td>\n",
       "      <td>EGFR</td>\n",
       "      <td>EGFR signaling</td>\n",
       "    </tr>\n",
       "    <tr>\n",
       "      <th>1</th>\n",
       "      <td>3</td>\n",
       "      <td>Rapamycin</td>\n",
       "      <td>AY-22989, Sirolimus, WY-090217, Torisel, Rapamune</td>\n",
       "      <td>MTORC1</td>\n",
       "      <td>PI3K/MTOR signaling</td>\n",
       "    </tr>\n",
       "    <tr>\n",
       "      <th>2</th>\n",
       "      <td>5</td>\n",
       "      <td>Sunitinib</td>\n",
       "      <td>Sutent, Sunitinib Malate, SU-11248</td>\n",
       "      <td>PDGFR, KIT, VEGFR, FLT3, RET, CSF1R</td>\n",
       "      <td>RTK signaling</td>\n",
       "    </tr>\n",
       "    <tr>\n",
       "      <th>3</th>\n",
       "      <td>6</td>\n",
       "      <td>PHA-665752</td>\n",
       "      <td>PHA665752, PHA 665752</td>\n",
       "      <td>MET</td>\n",
       "      <td>RTK signaling</td>\n",
       "    </tr>\n",
       "    <tr>\n",
       "      <th>4</th>\n",
       "      <td>9</td>\n",
       "      <td>MG-132</td>\n",
       "      <td>LLL cpd, MG 132, MG132</td>\n",
       "      <td>Proteasome, CAPN1</td>\n",
       "      <td>Protein stability and degradation</td>\n",
       "    </tr>\n",
       "  </tbody>\n",
       "</table>\n",
       "</div>"
      ],
      "text/plain": [
       "   Drug ID   Drug Name                                           Synonyms  \\\n",
       "0        1   Erlotinib  Tarceva, RG-1415, CP-358774, OSI-774, Ro-50823...   \n",
       "1        3   Rapamycin  AY-22989, Sirolimus, WY-090217, Torisel, Rapamune   \n",
       "2        5   Sunitinib                 Sutent, Sunitinib Malate, SU-11248   \n",
       "3        6  PHA-665752                              PHA665752, PHA 665752   \n",
       "4        9      MG-132                             LLL cpd, MG 132, MG132   \n",
       "\n",
       "                                Target                     Target Pathway  \n",
       "0                                 EGFR                     EGFR signaling  \n",
       "1                               MTORC1                PI3K/MTOR signaling  \n",
       "2  PDGFR, KIT, VEGFR, FLT3, RET, CSF1R                      RTK signaling  \n",
       "3                                  MET                      RTK signaling  \n",
       "4                    Proteasome, CAPN1  Protein stability and degradation  "
      ]
     },
     "execution_count": 15,
     "metadata": {},
     "output_type": "execute_result"
    }
   ],
   "source": [
    "drug_features.head()"
   ]
  },
  {
   "cell_type": "markdown",
   "metadata": {},
   "source": [
    "### Drug Response Data"
   ]
  },
  {
   "cell_type": "code",
   "execution_count": 16,
   "metadata": {},
   "outputs": [
    {
     "data": {
      "text/plain": [
       "(225384, 44)"
      ]
     },
     "execution_count": 16,
     "metadata": {},
     "output_type": "execute_result"
    }
   ],
   "source": [
    "drug_curves = pd.read_csv(_FOLDER+\"normalised_dose_response_data.csv\")\n",
    "drug_curves.shape"
   ]
  },
  {
   "cell_type": "code",
   "execution_count": 17,
   "metadata": {},
   "outputs": [
    {
     "data": {
      "text/html": [
       "<div>\n",
       "<style scoped>\n",
       "    .dataframe tbody tr th:only-of-type {\n",
       "        vertical-align: middle;\n",
       "    }\n",
       "\n",
       "    .dataframe tbody tr th {\n",
       "        vertical-align: top;\n",
       "    }\n",
       "\n",
       "    .dataframe thead th {\n",
       "        text-align: right;\n",
       "    }\n",
       "</style>\n",
       "<table border=\"1\" class=\"dataframe\">\n",
       "  <thead>\n",
       "    <tr style=\"text-align: right;\">\n",
       "      <th></th>\n",
       "      <th>Unnamed: 0</th>\n",
       "      <th>CELL_LINE_NAME</th>\n",
       "      <th>COSMIC_ID</th>\n",
       "      <th>DRUG_ID</th>\n",
       "      <th>DRUGID_COSMICID</th>\n",
       "      <th>FOLD_DILUTION</th>\n",
       "      <th>MAX_CONC</th>\n",
       "      <th>fd_num_0</th>\n",
       "      <th>fd_num_1</th>\n",
       "      <th>fd_num_2</th>\n",
       "      <th>...</th>\n",
       "      <th>per_slope_change_7</th>\n",
       "      <th>slope_0</th>\n",
       "      <th>slope_1</th>\n",
       "      <th>slope_2</th>\n",
       "      <th>slope_3</th>\n",
       "      <th>slope_4</th>\n",
       "      <th>slope_5</th>\n",
       "      <th>slope_6</th>\n",
       "      <th>slope_7</th>\n",
       "      <th>slope_8</th>\n",
       "    </tr>\n",
       "  </thead>\n",
       "  <tbody>\n",
       "    <tr>\n",
       "      <th>0</th>\n",
       "      <td>0</td>\n",
       "      <td>HDQ-P1</td>\n",
       "      <td>1290922</td>\n",
       "      <td>332</td>\n",
       "      <td>332_1290922</td>\n",
       "      <td>2</td>\n",
       "      <td>10.240</td>\n",
       "      <td>0</td>\n",
       "      <td>0.111111</td>\n",
       "      <td>0.222222</td>\n",
       "      <td>...</td>\n",
       "      <td>-2.14694</td>\n",
       "      <td>0.354085</td>\n",
       "      <td>-0.371905</td>\n",
       "      <td>0.069255</td>\n",
       "      <td>0.450075</td>\n",
       "      <td>-0.049503</td>\n",
       "      <td>-0.131784</td>\n",
       "      <td>0.246947</td>\n",
       "      <td>-1.239447</td>\n",
       "      <td>1.421566</td>\n",
       "    </tr>\n",
       "    <tr>\n",
       "      <th>1</th>\n",
       "      <td>1</td>\n",
       "      <td>HDQ-P1</td>\n",
       "      <td>1290922</td>\n",
       "      <td>257</td>\n",
       "      <td>257_1290922</td>\n",
       "      <td>2</td>\n",
       "      <td>10.240</td>\n",
       "      <td>0</td>\n",
       "      <td>0.111111</td>\n",
       "      <td>0.222222</td>\n",
       "      <td>...</td>\n",
       "      <td>-30.3283</td>\n",
       "      <td>-0.275239</td>\n",
       "      <td>0.163481</td>\n",
       "      <td>0.586129</td>\n",
       "      <td>0.180903</td>\n",
       "      <td>-0.221430</td>\n",
       "      <td>-0.349017</td>\n",
       "      <td>0.157822</td>\n",
       "      <td>0.087103</td>\n",
       "      <td>-2.554585</td>\n",
       "    </tr>\n",
       "    <tr>\n",
       "      <th>2</th>\n",
       "      <td>2</td>\n",
       "      <td>HDQ-P1</td>\n",
       "      <td>1290922</td>\n",
       "      <td>245</td>\n",
       "      <td>245_1290922</td>\n",
       "      <td>2</td>\n",
       "      <td>40.000</td>\n",
       "      <td>0</td>\n",
       "      <td>0.111111</td>\n",
       "      <td>0.222222</td>\n",
       "      <td>...</td>\n",
       "      <td>-0.618543</td>\n",
       "      <td>-0.394857</td>\n",
       "      <td>-0.615137</td>\n",
       "      <td>0.485215</td>\n",
       "      <td>-0.923687</td>\n",
       "      <td>0.466260</td>\n",
       "      <td>2.837371</td>\n",
       "      <td>-5.409070</td>\n",
       "      <td>-3.468825</td>\n",
       "      <td>-1.323207</td>\n",
       "    </tr>\n",
       "    <tr>\n",
       "      <th>3</th>\n",
       "      <td>3</td>\n",
       "      <td>HDQ-P1</td>\n",
       "      <td>1290922</td>\n",
       "      <td>155</td>\n",
       "      <td>155_1290922</td>\n",
       "      <td>2</td>\n",
       "      <td>0.512</td>\n",
       "      <td>0</td>\n",
       "      <td>0.111111</td>\n",
       "      <td>0.222222</td>\n",
       "      <td>...</td>\n",
       "      <td>1.14591</td>\n",
       "      <td>0.791510</td>\n",
       "      <td>-0.964611</td>\n",
       "      <td>1.238764</td>\n",
       "      <td>1.046952</td>\n",
       "      <td>-0.652559</td>\n",
       "      <td>-1.921061</td>\n",
       "      <td>-0.541266</td>\n",
       "      <td>-0.480877</td>\n",
       "      <td>-1.031916</td>\n",
       "    </tr>\n",
       "    <tr>\n",
       "      <th>4</th>\n",
       "      <td>4</td>\n",
       "      <td>HDQ-P1</td>\n",
       "      <td>1290922</td>\n",
       "      <td>192</td>\n",
       "      <td>192_1290922</td>\n",
       "      <td>2</td>\n",
       "      <td>16.000</td>\n",
       "      <td>0</td>\n",
       "      <td>0.111111</td>\n",
       "      <td>0.222222</td>\n",
       "      <td>...</td>\n",
       "      <td>1.53355</td>\n",
       "      <td>0.317413</td>\n",
       "      <td>0.044115</td>\n",
       "      <td>-0.604783</td>\n",
       "      <td>0.510820</td>\n",
       "      <td>-0.431190</td>\n",
       "      <td>0.575779</td>\n",
       "      <td>2.380415</td>\n",
       "      <td>-0.793585</td>\n",
       "      <td>-2.010587</td>\n",
       "    </tr>\n",
       "  </tbody>\n",
       "</table>\n",
       "<p>5 rows × 44 columns</p>\n",
       "</div>"
      ],
      "text/plain": [
       "   Unnamed: 0 CELL_LINE_NAME  COSMIC_ID  DRUG_ID DRUGID_COSMICID  \\\n",
       "0           0         HDQ-P1    1290922      332     332_1290922   \n",
       "1           1         HDQ-P1    1290922      257     257_1290922   \n",
       "2           2         HDQ-P1    1290922      245     245_1290922   \n",
       "3           3         HDQ-P1    1290922      155     155_1290922   \n",
       "4           4         HDQ-P1    1290922      192     192_1290922   \n",
       "\n",
       "   FOLD_DILUTION  MAX_CONC  fd_num_0  fd_num_1  fd_num_2  ...  \\\n",
       "0              2    10.240         0  0.111111  0.222222  ...   \n",
       "1              2    10.240         0  0.111111  0.222222  ...   \n",
       "2              2    40.000         0  0.111111  0.222222  ...   \n",
       "3              2     0.512         0  0.111111  0.222222  ...   \n",
       "4              2    16.000         0  0.111111  0.222222  ...   \n",
       "\n",
       "   per_slope_change_7   slope_0   slope_1   slope_2   slope_3   slope_4  \\\n",
       "0            -2.14694  0.354085 -0.371905  0.069255  0.450075 -0.049503   \n",
       "1            -30.3283 -0.275239  0.163481  0.586129  0.180903 -0.221430   \n",
       "2           -0.618543 -0.394857 -0.615137  0.485215 -0.923687  0.466260   \n",
       "3             1.14591  0.791510 -0.964611  1.238764  1.046952 -0.652559   \n",
       "4             1.53355  0.317413  0.044115 -0.604783  0.510820 -0.431190   \n",
       "\n",
       "    slope_5   slope_6   slope_7   slope_8  \n",
       "0 -0.131784  0.246947 -1.239447  1.421566  \n",
       "1 -0.349017  0.157822  0.087103 -2.554585  \n",
       "2  2.837371 -5.409070 -3.468825 -1.323207  \n",
       "3 -1.921061 -0.541266 -0.480877 -1.031916  \n",
       "4  0.575779  2.380415 -0.793585 -2.010587  \n",
       "\n",
       "[5 rows x 44 columns]"
      ]
     },
     "execution_count": 17,
     "metadata": {},
     "output_type": "execute_result"
    }
   ],
   "source": [
    "drug_curves.head()"
   ]
  },
  {
   "cell_type": "code",
   "execution_count": 18,
   "metadata": {},
   "outputs": [
    {
     "name": "stdout",
     "output_type": "stream",
     "text": [
      "No unique drugs: 265\n",
      "No unique cancer cell lines: 1074\n"
     ]
    }
   ],
   "source": [
    "print(\"No unique drugs:\", drug_curves[\"DRUG_ID\"].nunique())\n",
    "print(\"No unique cancer cell lines:\", drug_curves[\"COSMIC_ID\"].nunique())"
   ]
  },
  {
   "cell_type": "code",
   "execution_count": 19,
   "metadata": {},
   "outputs": [
    {
     "data": {
      "text/plain": [
       "CELL_LINE_NAME\n",
       "201T        185\n",
       "22RV1       223\n",
       "23132-87    216\n",
       "42-MG-BA    217\n",
       "451Lu       221\n",
       "           ... \n",
       "YT          258\n",
       "ZR-75-30     91\n",
       "huH-1       224\n",
       "no-10       241\n",
       "no-11       265\n",
       "Length: 1074, dtype: int64"
      ]
     },
     "execution_count": 19,
     "metadata": {},
     "output_type": "execute_result"
    }
   ],
   "source": [
    "drug_curves.groupby(\"CELL_LINE_NAME\")[[\"COSMIC_ID\"]].size()"
   ]
  },
  {
   "cell_type": "code",
   "execution_count": 20,
   "metadata": {},
   "outputs": [],
   "source": [
    "conc_columns= [\"fd_num_\"+str(i) for i in range(10)]\n",
    "response_norm = ['norm_cells_'+str(i) for i in range(10)]"
   ]
  },
  {
   "cell_type": "code",
   "execution_count": 21,
   "metadata": {},
   "outputs": [],
   "source": [
    "def createResponseCurve(response, x_labels, y_labels):\n",
    "#     fig = plt.figure(figsize=(5, 5))\n",
    "    plt.scatter(response[x_labels], response[y_labels])\n",
    "    plt.title(str(response[\"DRUG_ID\"]) + \"_\" + str(response[\"CELL_LINE_NAME\"]))\n",
    "    plt.xlabel(\"Scaled dosage\")\n",
    "    plt.ylabel(\"Normalised response\")\n",
    "    plt.show()"
   ]
  },
  {
   "cell_type": "code",
   "execution_count": 22,
   "metadata": {},
   "outputs": [],
   "source": [
    "max_int = len(drug_curves.index)\n",
    "rand_int = np.random.randint(0, max_int, 9)"
   ]
  },
  {
   "cell_type": "code",
   "execution_count": 23,
   "metadata": {},
   "outputs": [
    {
     "data": {
      "image/png": "[encoded data removed]",
      "text/plain": [
       "<Figure size 432x288 with 1 Axes>"
      ]
     },
     "metadata": {
      "needs_background": "light"
     },
     "output_type": "display_data"
    },
    {
     "data": {
      "image/png": "[encoded data removed]",
      "text/plain": [
       "<Figure size 432x288 with 1 Axes>"
      ]
     },
     "metadata": {
      "needs_background": "light"
     },
     "output_type": "display_data"
    },
    {
     "data": {
      "image/png": "[encoded data removed]",
      "text/plain": [
       "<Figure size 432x288 with 1 Axes>"
      ]
     },
     "metadata": {
      "needs_background": "light"
     },
     "output_type": "display_data"
    },
    {
     "data": {
      "image/png": "[encoded data removed]",
      "text/plain": [
       "<Figure size 432x288 with 1 Axes>"
      ]
     },
     "metadata": {
      "needs_background": "light"
     },
     "output_type": "display_data"
    },
    {
     "data": {
      "image/png": "[encoded data removed]",
      "text/plain": [
       "<Figure size 432x288 with 1 Axes>"
      ]
     },
     "metadata": {
      "needs_background": "light"
     },
     "output_type": "display_data"
    },
    {
     "data": {
      "image/png": "[encoded data removed]",
      "text/plain": [
       "<Figure size 432x288 with 1 Axes>"
      ]
     },
     "metadata": {
      "needs_background": "light"
     },
     "output_type": "display_data"
    },
    {
     "data": {
      "image/png": "[encoded data removed]",
      "text/plain": [
       "<Figure size 432x288 with 1 Axes>"
      ]
     },
     "metadata": {
      "needs_background": "light"
     },
     "output_type": "display_data"
    },
    {
     "data": {
      "image/png": "[encoded data removed]",
      "text/plain": [
       "<Figure size 432x288 with 1 Axes>"
      ]
     },
     "metadata": {
      "needs_background": "light"
     },
     "output_type": "display_data"
    },
    {
     "data": {
      "image/png": "[encoded data removed]",
      "text/plain": [
       "<Figure size 432x288 with 1 Axes>"
      ]
     },
     "metadata": {
      "needs_background": "light"
     },
     "output_type": "display_data"
    }
   ],
   "source": [
    "for index in rand_int:\n",
    "    createResponseCurve(drug_curves.loc[index], conc_columns, response_norm)"
   ]
  }
 ],
 "metadata": {
  "kernelspec": {
   "display_name": "Python 3",
   "language": "python",
   "name": "python3"
  },
  "language_info": {
   "codemirror_mode": {
    "name": "ipython",
    "version": 3
   },
   "file_extension": ".py",
   "mimetype": "text/x-python",
   "name": "python",
   "nbconvert_exporter": "python",
   "pygments_lexer": "ipython3",
   "version": "3.8.5"
  }
 },
 "nbformat": 4,
 "nbformat_minor": 4
}
