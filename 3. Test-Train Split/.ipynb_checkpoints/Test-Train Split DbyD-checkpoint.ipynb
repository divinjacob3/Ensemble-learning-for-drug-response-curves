{
 "cells": [
  {
   "cell_type": "code",
   "execution_count": 47,
   "metadata": {},
   "outputs": [],
   "source": [
    "import pandas as pd\n",
    "import numpy as np\n",
    "import matplotlib.pyplot as plt\n",
    "from sklearn.model_selection import train_test_split\n",
    "import json\n",
    "\n",
    "\n",
    "_FOLDER = \"../data/\""
   ]
  },
  {
   "cell_type": "code",
   "execution_count": 48,
   "metadata": {},
   "outputs": [],
   "source": [
    "filterPlateau = pd.read_csv(_FOLDER+'filteredResponses.csv')"
   ]
  },
  {
   "cell_type": "code",
   "execution_count": 49,
   "metadata": {},
   "outputs": [],
   "source": [
    "drugIDs = list(filterPlateau['DRUG_ID'].unique())\n",
    "drugIDs = np.squeeze(drugIDs)"
   ]
  },
  {
   "cell_type": "code",
   "execution_count": 50,
   "metadata": {},
   "outputs": [],
   "source": [
    "trainTest = {}\n",
    "lowest = 1000\n",
    "lowestId = 0\n",
    "for drugID in drugIDs:\n",
    "    drugResponses = list(filterPlateau.loc[filterPlateau['DRUG_ID'] == drugID]['DRUGID_COSMICID'])\n",
    "    if(len(drugResponses) < lowest):\n",
    "        lowest = len(drugResponses)\n",
    "        lowestId = drugID\n",
    "    data = []\n",
    "    trainDCID, testDCID = train_test_split(drugResponses, test_size=0.2, random_state=42)\n",
    "    data.append(trainDCID)\n",
    "    data.append(testDCID)\n",
    "    trainTest[str(drugID)] = data\n",
    "    "
   ]
  },
  {
   "cell_type": "code",
   "execution_count": 51,
   "metadata": {},
   "outputs": [],
   "source": [
    "with open(_FOLDER + 'dataSplit.txt', 'w') as convert_file:\n",
    "     convert_file.write(json.dumps(trainTest))"
   ]
  }
 ],
 "metadata": {
  "kernelspec": {
   "display_name": "Python 3",
   "language": "python",
   "name": "python3"
  },
  "language_info": {
   "codemirror_mode": {
    "name": "ipython",
    "version": 3
   },
   "file_extension": ".py",
   "mimetype": "text/x-python",
   "name": "python",
   "nbconvert_exporter": "python",
   "pygments_lexer": "ipython3",
   "version": "3.8.5"
  }
 },
 "nbformat": 4,
 "nbformat_minor": 4
}
